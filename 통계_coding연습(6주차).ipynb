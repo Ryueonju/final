{
  "nbformat": 4,
  "nbformat_minor": 0,
  "metadata": {
    "colab": {
      "provenance": []
    },
    "kernelspec": {
      "name": "python3",
      "display_name": "Python 3"
    },
    "language_info": {
      "name": "python"
    }
  },
  "cells": [
    {
      "cell_type": "code",
      "execution_count": null,
      "metadata": {
        "colab": {
          "base_uri": "https://localhost:8080/"
        },
        "id": "hTWTc_pbRrc7",
        "outputId": "1f3dd443-68e6-47c3-9466-3d22ffea9aeb"
      },
      "outputs": [
        {
          "output_type": "stream",
          "name": "stdout",
          "text": [
            "우유를 산 경우에 빵을 살 확률: 0.7499999999999999\n"
          ]
        }
      ],
      "source": [
        "# 연습 01. 조건부 확률: 우유를 산 경우에 빵을 살 확률\n",
        "\n",
        "def conditional_probability(prob_a_and_b, prob_b):\n",
        "    \"\"\"\n",
        "    조건부 확률을 계산하는 함수\n",
        "    :param prob_a_and_b: 사건 A와 B가 동시에 일어날 확률\n",
        "    :param prob_b: 사건 B가 일어날 확률\n",
        "    :return: 조건부 확률 P(A|B)\n",
        "    \"\"\"\n",
        "    return prob_a_and_b / prob_b\n",
        "\n",
        "# 주어진 확률값\n",
        "prob_a = 0.6   # 빵을 살 확률\n",
        "prob_b = 0.4   # 우유를 살 확률\n",
        "prob_a_and_b = 0.3   # 빵도 사고 우유도 살 확률\n",
        "\n",
        "# 조건부 확률 계산\n",
        "prob_a_given_b = conditional_probability(prob_a_and_b, prob_b)\n",
        "\n",
        "print(\"우유를 산 경우에 빵을 살 확률:\", prob_a_given_b)"
      ]
    },
    {
      "cell_type": "code",
      "source": [
        "# 연습 02. 조건부 확률 및 베이즈 정리의 구현\n",
        "\n",
        "# 사전확률과 사후확률\n",
        "\n",
        "# 한글폰트 문제 없이 나눔고딕 폰트 설치과정 포함\n",
        "# --- 폰트 설치(Colab) ---\n",
        "!apt-get -qq update\n",
        "!apt-get -qq -y install fonts-nanum\n",
        "\n",
        "# --- 라이브러리 ---\n",
        "import matplotlib.pyplot as plt\n",
        "import matplotlib.font_manager as fm\n",
        "import matplotlib as mpl\n",
        "import numpy as np\n",
        "\n",
        "# --- 나눔고딕을 런타임에 등록 & 적용(재시작 불필요) ---\n",
        "font_path = \"/usr/share/fonts/truetype/nanum/NanumGothic.ttf\"\n",
        "fm.fontManager.addfont(font_path)\n",
        "mpl.rc('font', family='NanumGothic')\n",
        "\n",
        "# 마이너스 기호 깨짐 방지\n",
        "plt.rcParams[\"axes.unicode_minus\"] = False\n",
        "\n",
        "# --- 데이터 ---\n",
        "colors = ['#348ABD', \"#A60628\"]\n",
        "prior = [1/25., 24/25.]        # 사전확률: [P(가수), P(직장인)]\n",
        "posterior = [0.158, 1-0.158]   # 사후확률: [P(가수|X), P(직장인|X)]\n",
        "\n",
        "# --- 그래프 ---\n",
        "plt.figure(figsize=(6,4))\n",
        "# 사전확률 막대\n",
        "plt.bar([0, 0.7], prior, alpha=0.7, width=0.25,\n",
        "        color=colors[0], label=\"사전확률\", lw=3, edgecolor='#348ABD')\n",
        "# 사후확률 막대\n",
        "plt.bar([0+0.25, 0.7+0.25], posterior, alpha=0.7, width=0.25,\n",
        "        color=colors[1], label=\"사후확률\", lw=3, edgecolor='#A60628')\n",
        "\n",
        "# 라벨/제목/범례\n",
        "plt.xticks([0.12, 0.82], ['가수', '직장인'])\n",
        "plt.title('철수의 직업에 대한 사전확률과 사후확률')\n",
        "plt.ylabel('확률')\n",
        "plt.legend(loc='upper left')\n",
        "plt.ylim(0, 1)   # (선택) y축 0~1로 고정\n",
        "\n",
        "plt.tight_layout()\n",
        "plt.show()\n"
      ],
      "metadata": {
        "colab": {
          "base_uri": "https://localhost:8080/",
          "height": 536
        },
        "id": "GU8zs-JvSpVg",
        "outputId": "d4af7be2-af06-42f1-f079-f29e9dbf3142"
      },
      "execution_count": 1,
      "outputs": [
        {
          "output_type": "stream",
          "name": "stdout",
          "text": [
            "W: Skipping acquire of configured file 'main/source/Sources' as repository 'https://r2u.stat.illinois.edu/ubuntu jammy InRelease' does not seem to provide it (sources.list entry misspelt?)\n",
            "Selecting previously unselected package fonts-nanum.\n",
            "(Reading database ... 126455 files and directories currently installed.)\n",
            "Preparing to unpack .../fonts-nanum_20200506-1_all.deb ...\n",
            "Unpacking fonts-nanum (20200506-1) ...\n",
            "Setting up fonts-nanum (20200506-1) ...\n",
            "Processing triggers for fontconfig (2.13.1-4.2ubuntu5) ...\n"
          ]
        },
        {
          "output_type": "display_data",
          "data": {
            "text/plain": [
              "<Figure size 600x400 with 1 Axes>"
            ],
            "image/png": "[encoded data removed]"
          },
          "metadata": {}
        }
      ]
    }
  ]
}
