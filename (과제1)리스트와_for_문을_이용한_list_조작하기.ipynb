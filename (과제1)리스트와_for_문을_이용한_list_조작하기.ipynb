{
  "nbformat": 4,
  "nbformat_minor": 0,
  "metadata": {
    "colab": {
      "provenance": []
    },
    "kernelspec": {
      "name": "python3",
      "display_name": "Python 3"
    },
    "language_info": {
      "name": "python"
    }
  },
  "cells": [
    {
      "cell_type": "code",
      "execution_count": 1,
      "metadata": {
        "colab": {
          "base_uri": "https://localhost:8080/"
        },
        "id": "11tDH7w0nRCt",
        "outputId": "f23a58d8-44c3-429e-bff3-182e412cd37d"
      },
      "outputs": [
        {
          "output_type": "stream",
          "name": "stdout",
          "text": [
            "[6, 5, 4, 3, 2]\n"
          ]
        }
      ],
      "source": [
        "a = [2, 3, 4, 5, 6]\n",
        "rev_a = []\n",
        "for _ in range(len(a)) :\n",
        "  rev_a.append(a.pop())\n",
        "\n",
        "print(rev_a)"
      ]
    }
  ]
}