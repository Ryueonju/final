{
  "nbformat": 4,
  "nbformat_minor": 0,
  "metadata": {
    "colab": {
      "provenance": []
    },
    "kernelspec": {
      "name": "python3",
      "display_name": "Python 3"
    },
    "language_info": {
      "name": "python"
    }
  },
  "cells": [
    {
      "cell_type": "code",
      "execution_count": null,
      "metadata": {
        "colab": {
          "base_uri": "https://localhost:8080/"
        },
        "id": "EMTdMEbmHMmc",
        "outputId": "579148c8-0cf7-47e3-fb3d-b2b34c93a03b"
      },
      "outputs": [
        {
          "output_type": "stream",
          "name": "stdout",
          "text": [
            "이름: 류언주\n",
            "나이: 20\n"
          ]
        }
      ],
      "source": [
        "print(\"이름: 류언주\")\n",
        "print(\"나이: 20\")"
      ]
    }
  ]
}